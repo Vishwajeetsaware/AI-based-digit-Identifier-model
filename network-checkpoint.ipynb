{
 "cells": [
  {
   "cell_type": "code",
   "execution_count": 2,
   "id": "df0befd6-3ca3-4764-aa7b-aa5743afd9c0",
   "metadata": {},
   "outputs": [
    {
     "name": "stdout",
     "output_type": "stream",
     "text": [
      "Requirement already satisfied: pandas in c:\\users\\user\\appdata\\local\\programs\\python\\python312\\lib\\site-packages (2.1.4)Note: you may need to restart the kernel to use updated packages.\n",
      "\n",
      "Requirement already satisfied: numpy<2,>=1.26.0 in c:\\users\\user\\appdata\\local\\programs\\python\\python312\\lib\\site-packages (from pandas) (1.26.2)\n",
      "Requirement already satisfied: python-dateutil>=2.8.2 in c:\\users\\user\\appdata\\local\\programs\\python\\python312\\lib\\site-packages (from pandas) (2.8.2)\n",
      "Requirement already satisfied: pytz>=2020.1 in c:\\users\\user\\appdata\\local\\programs\\python\\python312\\lib\\site-packages (from pandas) (2023.3.post1)\n",
      "Requirement already satisfied: tzdata>=2022.1 in c:\\users\\user\\appdata\\local\\programs\\python\\python312\\lib\\site-packages (from pandas) (2023.3)\n",
      "Requirement already satisfied: six>=1.5 in c:\\users\\user\\appdata\\local\\programs\\python\\python312\\lib\\site-packages (from python-dateutil>=2.8.2->pandas) (1.16.0)\n"
     ]
    },
    {
     "name": "stderr",
     "output_type": "stream",
     "text": [
      "\n",
      "[notice] A new release of pip is available: 23.2.1 -> 23.3.2\n",
      "[notice] To update, run: python.exe -m pip install --upgrade pip\n"
     ]
    }
   ],
   "source": [
    "pip install pandas"
   ]
  },
  {
   "cell_type": "code",
   "execution_count": 3,
   "id": "d3928a6a-75e1-4bc6-9149-e92dfadad453",
   "metadata": {},
   "outputs": [
    {
     "name": "stdout",
     "output_type": "stream",
     "text": [
      "Requirement already satisfied: numpy in c:\\users\\user\\appdata\\local\\programs\\python\\python312\\lib\\site-packages (1.26.2)Note: you may need to restart the kernel to use updated packages.\n",
      "\n"
     ]
    },
    {
     "name": "stderr",
     "output_type": "stream",
     "text": [
      "\n",
      "[notice] A new release of pip is available: 23.2.1 -> 23.3.2\n",
      "[notice] To update, run: python.exe -m pip install --upgrade pip\n"
     ]
    }
   ],
   "source": [
    "pip install numpy"
   ]
  },
  {
   "cell_type": "code",
   "execution_count": 4,
   "id": "4dac9158-31b4-4e96-a5a1-69b9c4cce50d",
   "metadata": {},
   "outputs": [
    {
     "name": "stdout",
     "output_type": "stream",
     "text": [
      "Requirement already satisfied: matplotlib in c:\\users\\user\\appdata\\local\\programs\\python\\python312\\lib\\site-packages (3.8.2)\n",
      "Requirement already satisfied: contourpy>=1.0.1 in c:\\users\\user\\appdata\\local\\programs\\python\\python312\\lib\\site-packages (from matplotlib) (1.2.0)\n",
      "Requirement already satisfied: cycler>=0.10 in c:\\users\\user\\appdata\\local\\programs\\python\\python312\\lib\\site-packages (from matplotlib) (0.12.1)\n",
      "Requirement already satisfied: fonttools>=4.22.0 in c:\\users\\user\\appdata\\local\\programs\\python\\python312\\lib\\site-packages (from matplotlib) (4.47.0)\n",
      "Requirement already satisfied: kiwisolver>=1.3.1 in c:\\users\\user\\appdata\\local\\programs\\python\\python312\\lib\\site-packages (from matplotlib) (1.4.5)\n",
      "Requirement already satisfied: numpy<2,>=1.21 in c:\\users\\user\\appdata\\local\\programs\\python\\python312\\lib\\site-packages (from matplotlib) (1.26.2)\n",
      "Requirement already satisfied: packaging>=20.0 in c:\\users\\user\\appdata\\local\\programs\\python\\python312\\lib\\site-packages (from matplotlib) (23.2)\n",
      "Requirement already satisfied: pillow>=8 in c:\\users\\user\\appdata\\local\\programs\\python\\python312\\lib\\site-packages (from matplotlib) (10.1.0)\n",
      "Requirement already satisfied: pyparsing>=2.3.1 in c:\\users\\user\\appdata\\local\\programs\\python\\python312\\lib\\site-packages (from matplotlib) (3.1.1)\n",
      "Requirement already satisfied: python-dateutil>=2.7 in c:\\users\\user\\appdata\\local\\programs\\python\\python312\\lib\\site-packages (from matplotlib) (2.8.2)\n",
      "Requirement already satisfied: six>=1.5 in c:\\users\\user\\appdata\\local\\programs\\python\\python312\\lib\\site-packages (from python-dateutil>=2.7->matplotlib) (1.16.0)\n",
      "Note: you may need to restart the kernel to use updated packages.\n"
     ]
    },
    {
     "name": "stderr",
     "output_type": "stream",
     "text": [
      "\n",
      "[notice] A new release of pip is available: 23.2.1 -> 23.3.2\n",
      "[notice] To update, run: python.exe -m pip install --upgrade pip\n"
     ]
    }
   ],
   "source": [
    "pip  install matplotlib"
   ]
  },
  {
   "cell_type": "code",
   "execution_count": 5,
   "id": "f923f304-9370-4b23-9b5c-9e569ef5f33c",
   "metadata": {},
   "outputs": [],
   "source": [
    "import pandas as pd"
   ]
  },
  {
   "cell_type": "code",
   "execution_count": 6,
   "id": "3b432544-336e-4376-a8d3-90fd163ff84c",
   "metadata": {},
   "outputs": [],
   "source": [
    "import numpy as np"
   ]
  },
  {
   "cell_type": "code",
   "execution_count": 7,
   "id": "06eeb6b1-c6e3-4fde-bb8b-46e421aed809",
   "metadata": {},
   "outputs": [],
   "source": [
    "import matplotlib.pyplot as plt"
   ]
  },
  {
   "cell_type": "code",
   "execution_count": 8,
   "id": "3c35529a-d9ed-4103-903d-53d345e6854d",
   "metadata": {},
   "outputs": [],
   "source": [
    "import random"
   ]
  },
  {
   "cell_type": "code",
   "execution_count": 10,
   "id": "d230d531-fe2f-4dbc-8414-b3bdce291360",
   "metadata": {},
   "outputs": [],
   "source": [
    "X_train = np.loadtxt('train_X.csv', delimiter = ',').T"
   ]
  },
  {
   "cell_type": "code",
   "execution_count": 11,
   "id": "f2dd2668-c959-4f00-8a2d-a7b496f9c17b",
   "metadata": {},
   "outputs": [],
   "source": [
    "Y_train = np.loadtxt('train_label.csv', delimiter = ',').T"
   ]
  },
  {
   "cell_type": "code",
   "execution_count": 12,
   "id": "bf10c098-f25f-4d29-b3f8-5bc42382abbc",
   "metadata": {},
   "outputs": [],
   "source": [
    "X_test = np.loadtxt('test_X.csv', delimiter = ',').T"
   ]
  },
  {
   "cell_type": "code",
   "execution_count": 13,
   "id": "683c4135-fff4-44f8-81e0-b4f2f5d9e826",
   "metadata": {},
   "outputs": [],
   "source": [
    "Y_test = np.loadtxt('test_label.csv', delimiter = ',').T"
   ]
  },
  {
   "cell_type": "code",
   "execution_count": 14,
   "id": "df6fa5a4-855b-452d-896f-9b6205d60ef2",
   "metadata": {},
   "outputs": [
    {
     "name": "stdout",
     "output_type": "stream",
     "text": [
      "Shape of X_train : no of photo  : (784, 1000)\n"
     ]
    }
   ],
   "source": [
    "print(\"Shape of X_train : no of photo  :\" , X_train.shape)"
   ]
  },
  {
   "cell_type": "code",
   "execution_count": 15,
   "id": "e6f94e06-9c44-4b3b-abad-3147c9169dd4",
   "metadata": {},
   "outputs": [
    {
     "name": "stdout",
     "output_type": "stream",
     "text": [
      "Shape of Y_train  : (10, 1000)\n"
     ]
    }
   ],
   "source": [
    "print(\"Shape of Y_train  :\" , Y_train.shape)"
   ]
  },
  {
   "cell_type": "code",
   "execution_count": 16,
   "id": "ecbd097c-fa5d-401a-8c55-84381931130b",
   "metadata": {},
   "outputs": [
    {
     "name": "stdout",
     "output_type": "stream",
     "text": [
      "Shape of X_test:  (784, 350)\n",
      "Shape of Y_test:  (10, 350)\n"
     ]
    }
   ],
   "source": [
    "print(\"Shape of X_test: \" , X_test.shape)\n",
    "print(\"Shape of Y_test: \", Y_test.shape)"
   ]
  },
  {
   "cell_type": "code",
   "execution_count": 17,
   "id": "2f6142e1-bb8a-449b-8361-9da7bcfe226a",
   "metadata": {},
   "outputs": [],
   "source": [
    "index = random.randrange(0, X_train.shape[1])"
   ]
  },
  {
   "cell_type": "code",
   "execution_count": 18,
   "id": "d629ac76-e1b0-4bfb-b169-15341c7db00e",
   "metadata": {},
   "outputs": [
    {
     "data": {
      "image/png": "[encoded data removed]",
      "text/plain": [
       "<Figure size 640x480 with 1 Axes>"
      ]
     },
     "metadata": {},
     "output_type": "display_data"
    }
   ],
   "source": [
    "index = random.randrange(0, X_train.shape[1])\n",
    "plt.imshow(X_train[:, index].reshape(28,28),cmap = 'gray')\n",
    "plt.show()"
   ]
  },
  {
   "cell_type": "code",
   "execution_count": 19,
   "id": "e12c85dc-9d7d-4e17-881c-6c57d4cefda1",
   "metadata": {},
   "outputs": [],
   "source": [
    "def tanh(x):\n",
    "    return np.tanh(x)\n",
    "def relu(x):\n",
    "    return np.maximum(x,0)"
   ]
  },
  {
   "cell_type": "code",
   "execution_count": 20,
   "id": "fc25775a-686b-4d58-a4e4-7ac60f551b1d",
   "metadata": {},
   "outputs": [],
   "source": [
    "def softmax(x):\n",
    "    expX = np.exp(x)\n",
    "    return expX/np.sum(expX,axis = 0)"
   ]
  },
  {
   "cell_type": "code",
   "execution_count": 21,
   "id": "714023e3-f923-4d52-b385-4f58ea8d3099",
   "metadata": {},
   "outputs": [],
   "source": [
    "def derivative_tanh(x):\n",
    "    return (1- np.power(np.tanh(x), 2))"
   ]
  },
  {
   "cell_type": "code",
   "execution_count": 22,
   "id": "b364b17f-710d-42be-a332-4305d98047a4",
   "metadata": {},
   "outputs": [],
   "source": [
    "def derivative_relu(x):\n",
    "    return np.array( x > 0 , dtype = np.float32)"
   ]
  },
  {
   "cell_type": "code",
   "execution_count": 23,
   "id": "468f39ca-5d07-49ae-bcae-7b9d0b2cad83",
   "metadata": {},
   "outputs": [],
   "source": [
    "# Initialise parameter\n",
    "def initialize_parameters(n_x,n_h,n_y):\n",
    "    w1 = np.random.randn(n_h, n_x)*0.01\n",
    "    b1 = np.zeros((n_h, 1))\n",
    "\n",
    "    w2 = np.random.randn(n_y, n_h)*0.01\n",
    "    b2 = np.zeros((n_y, 1))\n",
    "\n",
    "    parameters = {\n",
    "        \"w1\" : w1,\n",
    "        \"b1\" : b1,\n",
    "        \"w2\" : w2,\n",
    "        \"b2\" : b2\n",
    "    }\n",
    "    return parameters\n",
    "    "
   ]
  },
  {
   "cell_type": "code",
   "execution_count": 24,
   "id": "8112120a-2ad9-480e-ab33-3f9aa8f39199",
   "metadata": {},
   "outputs": [],
   "source": [
    "def forward_propogation(x, parameters):\n",
    "    w1 = parameters['w1']\n",
    "    b1 = parameters['b1']\n",
    "    w2 = parameters['w2']\n",
    "    b2 = parameters['b2']\n",
    "\n",
    "    z1 = np.dot(w1, x) + b1\n",
    "    a1 = tanh(z1)\n",
    "    z2 = np.dot(w2, a1) + b2\n",
    "    a2 = softmax(z2)\n",
    "\n",
    "    forward_cache = {\n",
    "        \"z1\" : z1,\n",
    "        \"a1\" : a1,\n",
    "        \"z2\" : z2,\n",
    "        \"a2\" : a2\n",
    "    }\n",
    "    return forward_cache\n",
    "    "
   ]
  },
  {
   "cell_type": "code",
   "execution_count": 25,
   "id": "4ce7e65a-8bd0-4078-9df9-69cb6663f26e",
   "metadata": {},
   "outputs": [],
   "source": [
    "def cost_function(a2, y):\n",
    "    m = y.shape[1]\n",
    "    cost = -(1/m)*np.sum(y*np.log(a2))\n",
    "    return cost"
   ]
  },
  {
   "cell_type": "code",
   "execution_count": 26,
   "id": "34bb7f89-2d62-4e35-8704-5c15291c7fb1",
   "metadata": {},
   "outputs": [],
   "source": [
    "def backward_propogation(x, y, parameters, forward_cache):\n",
    "     w1 = parameters['w1']\n",
    "     b1 = parameters['b1']\n",
    "     w2 = parameters['w2']\n",
    "     b2 = parameters['b2']\n",
    "\n",
    "     a1 = forward_cache['a1']\n",
    "     a2 = forward_cache['a2']\n",
    "\n",
    "     m = x.shape[1]\n",
    "\n",
    "     dz2 = (a2 - y)\n",
    "     dw2 =  (1/m)*np.dot(dz2, a1.T)\n",
    "     db2 = (1/m)*np.sum(dz2, axis = 1 , keepdims = True)\n",
    "\n",
    "     dz1 = (1/m)*np.dot(w2.T,dz2)*derivative_tanh(a1)\n",
    "     dw1 = (1/m)*np.dot(dz1, x.T)\n",
    "     db1 = (1/m)*np.sum(dz1, axis = 1, keepdims = True)\n",
    "\n",
    "     gradients = {\n",
    "         \"dw1\" : dw1,6\n",
    "         \"dw2\" : dw2,\n",
    "         \"db2\" : db2\n",
    "     }\n",
    "     return gradients\n",
    "            "
   ]
  },
  {
   "cell_type": "code",
   "execution_count": 27,
   "id": "35918169-f778-4755-839b-5345385e72b5",
   "metadata": {},
   "outputs": [],
   "source": [
    "def update_parameters(parameters, gradients, learning_rate):\n",
    "    w1 = parameters['w1']\n",
    "    b1 = parameters['b1']\n",
    "    w2 = parameters['w2']\n",
    "    b2 = parameters['b2']\n",
    "\n",
    "    dw1 = gradients['dw1']\n",
    "    db1 = gradients['db1']\n",
    "    dw2 = gradients['dw2']\n",
    "    db2 = gradients['db2']\n",
    "\n",
    "    w1 = w1 - learning_rate*dw1\n",
    "    b1 = b1 - learning_rate*db1\n",
    "    w2 = w2 - learning_rate*dw2\n",
    "    b2 = b2 - learning_rate*db2\n",
    "    parameters = {\n",
    "        \"w1\" : w1,\n",
    "        \"b1\" : b1,\n",
    "        \"w2\" : w2,\n",
    "        \"b2\" : b2\n",
    "    }\n",
    "    return parameters\n",
    "        \n",
    "    "
   ]
  },
  {
   "cell_type": "code",
   "execution_count": 28,
   "id": "48761b7b-425a-4173-94a0-0b761e011fa4",
   "metadata": {},
   "outputs": [],
   "source": [
    "def model(x, y, n_h, learning_rate, Iterations):\n",
    "    n_x = x.shape[0]\n",
    "    n_y = y.shape[0]\n",
    "    cost_list = []\n",
    "    parameters = initialize_parameters(n_x, n_h, n_y)\n",
    "    for i in range(Iterations):\n",
    "        forward_cache = forward_propogation(x, parameters)\n",
    "        cost = cost_function( forward_cache['a2'], y)\n",
    "        gradients = backward_propogation(x, y, parameters, forward_cache)\n",
    "        parameters = update_parameters(parameters, gradients, learning_rate)\n",
    "        cost_list.append(cost)\n",
    "        if(i%(Iterations/10) == 0):\n",
    "           print(\"Cost after\" , i, \"iterations is \",cost)\n",
    "    return parameters, cost_list"
   ]
  },
  {
   "cell_type": "code",
   "execution_count": 29,
   "id": "67228a6e-1611-4aba-9ad5-9761bdaa106e",
   "metadata": {},
   "outputs": [
    {
     "name": "stdout",
     "output_type": "stream",
     "text": [
      "Cost after 0 iterations is  2.436302522173577\n",
      "Cost after 10 iterations is  0.7250442481170869\n",
      "Cost after 20 iterations is  0.4871398844740231\n",
      "Cost after 30 iterations is  0.3809219762004008\n",
      "Cost after 40 iterations is  0.31594794160436684\n",
      "Cost after 50 iterations is  0.2702790393557275\n",
      "Cost after 60 iterations is  0.23566905814001565\n",
      "Cost after 70 iterations is  0.2082148677021055\n",
      "Cost after 80 iterations is  0.18577597107004107\n",
      "Cost after 90 iterations is  0.16705331464244108\n"
     ]
    }
   ],
   "source": [
    "Iterations = 100\n",
    "n_h = 1000\n",
    "learning_rate = 0.05\n",
    "Parameters, Cost_list = model(X_train , Y_train, n_h = n_h, learning_rate = learning_rate, Iterations = Iterations)"
   ]
  },
  {
   "cell_type": "code",
   "execution_count": 30,
   "id": "94733639-7c11-48ec-8331-4a205f55de0c",
   "metadata": {},
   "outputs": [
    {
     "data": {
      "image/png": "[encoded data removed]",
      "text/plain": [
       "<Figure size 640x480 with 1 Axes>"
      ]
     },
     "metadata": {},
     "output_type": "display_data"
    }
   ],
   "source": [
    "t = np.arange(0, Iterations)\n",
    "plt.plot(t, Cost_list)\n",
    "plt.show()"
   ]
  },
  {
   "cell_type": "code",
   "execution_count": 31,
   "id": "6cc3f2ec-cf8e-4a3a-b994-28f9bf506751",
   "metadata": {},
   "outputs": [],
   "source": [
    "#check accuracy\n",
    "def accuracy(inp, labels, parameters):\n",
    "    forward_cache = forward_propogation(inp, parameters)\n",
    "    a_out = forward_cache['a2']\n",
    "    a_out = np.argmax(a_out, 0)\n",
    "    y_out = np.argmax(labels, 0)\n",
    "    a_out == y_out\n",
    "    acc  = np.mean(a_out == y_out)*100\n",
    "    return acc"
   ]
  },
  {
   "cell_type": "code",
   "execution_count": 32,
   "id": "3a1ec84a-b577-47cc-bb0c-bd3ceca73e0b",
   "metadata": {},
   "outputs": [
    {
     "name": "stdout",
     "output_type": "stream",
     "text": [
      "Accuracy of train dataset : 99.2 %\n",
      "Accuracy of Train Dataset is :  87.14285714285714 %\n"
     ]
    }
   ],
   "source": [
    "print(\"Accuracy of train dataset :\", accuracy(X_train, Y_train, Parameters),\"%\")\n",
    "print(\"Accuracy of Train Dataset is : \", accuracy(X_test, Y_test, Parameters),\"%\")"
   ]
  },
  {
   "cell_type": "code",
   "execution_count": null,
   "id": "d312b406-9463-4394-ac52-f2b7d8f365a4",
   "metadata": {},
   "outputs": [],
   "source": []
  },
  {
   "cell_type": "code",
   "execution_count": null,
   "id": "befb4b17-5fad-4d5b-a819-a08042bd57ce",
   "metadata": {},
   "outputs": [],
   "source": []
  }
 ],
 "metadata": {
  "kernelspec": {
   "display_name": "Python 3 (ipykernel)",
   "language": "python",
   "name": "python3"
  },
  "language_info": {
   "codemirror_mode": {
    "name": "ipython",
    "version": 3
   },
   "file_extension": ".py",
   "mimetype": "text/x-python",
   "name": "python",
   "nbconvert_exporter": "python",
   "pygments_lexer": "ipython3",
   "version": "3.12.1"
  }
 },
 "nbformat": 4,
 "nbformat_minor": 5
}
